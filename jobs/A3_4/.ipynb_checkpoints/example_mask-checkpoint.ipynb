{
 "cells": [
  {
   "cell_type": "code",
   "execution_count": 1,
   "metadata": {},
   "outputs": [
    {
     "ename": "ModuleNotFoundError",
     "evalue": "No module named 'cPickle'",
     "output_type": "error",
     "traceback": [
      "\u001b[0;31m---------------------------------------------------------------------------\u001b[0m",
      "\u001b[0;31mModuleNotFoundError\u001b[0m                       Traceback (most recent call last)",
      "\u001b[0;32m<ipython-input-1-90feba95bf5d>\u001b[0m in \u001b[0;36m<module>\u001b[0;34m()\u001b[0m\n\u001b[1;32m      2\u001b[0m \u001b[0mget_ipython\u001b[0m\u001b[0;34m(\u001b[0m\u001b[0;34m)\u001b[0m\u001b[0;34m.\u001b[0m\u001b[0mrun_line_magic\u001b[0m\u001b[0;34m(\u001b[0m\u001b[0;34m'matplotlib'\u001b[0m\u001b[0;34m,\u001b[0m \u001b[0;34m'inline'\u001b[0m\u001b[0;34m)\u001b[0m\u001b[0;34m\u001b[0m\u001b[0m\n\u001b[1;32m      3\u001b[0m \u001b[0;32mimport\u001b[0m \u001b[0mnumpy\u001b[0m \u001b[0;32mas\u001b[0m \u001b[0mnp\u001b[0m\u001b[0;34m\u001b[0m\u001b[0m\n\u001b[0;32m----> 4\u001b[0;31m \u001b[0;32mimport\u001b[0m \u001b[0mcPickle\u001b[0m \u001b[0;32mas\u001b[0m \u001b[0mpickle\u001b[0m\u001b[0;34m\u001b[0m\u001b[0m\n\u001b[0m\u001b[1;32m      5\u001b[0m \u001b[0;32mimport\u001b[0m \u001b[0mitertools\u001b[0m\u001b[0;34m,\u001b[0m \u001b[0mtime\u001b[0m\u001b[0;34m\u001b[0m\u001b[0m\n\u001b[1;32m      6\u001b[0m \u001b[0;32mimport\u001b[0m \u001b[0mscipy\u001b[0m\u001b[0;34m.\u001b[0m\u001b[0mstats\u001b[0m\u001b[0;34m,\u001b[0m \u001b[0mmath\u001b[0m\u001b[0;34m\u001b[0m\u001b[0m\n",
      "\u001b[0;31mModuleNotFoundError\u001b[0m: No module named 'cPickle'"
     ]
    }
   ],
   "source": [
    "import matplotlib.pyplot as plt\n",
    "%matplotlib inline\n",
    "import numpy as np\n",
    "import cPickle as pickle\n",
    "import itertools, time\n",
    "import scipy.stats, math\n",
    "from collections import OrderedDict\n",
    "from operator import mul\n",
    "\n",
    "import matplotlib.patches as patches\n",
    "import matplotlib.lines as mlines\n",
    "from mpl_toolkits.mplot3d import Axes3D\n",
    "import matplotlib.pyplot as plt\n",
    "from matplotlib import cm\n",
    "from matplotlib.ticker import LinearLocator, FormatStrFormatter\n",
    "from matplotlib.patches import Rectangle, PathPatch\n",
    "import mpl_toolkits.mplot3d.art3d as art3d\n",
    "from matplotlib.text import TextPath\n",
    "from matplotlib.transforms import Affine2D\n",
    "from matplotlib.patches import Circle, PathPatch\n",
    "\n",
    "import matplotlib.path as mplPath\n",
    "from matplotlib import gridspec\n",
    "from matplotlib.patches import Ellipse"
   ]
  },
  {
   "cell_type": "code",
   "execution_count": 2,
   "metadata": {
    "collapsed": true
   },
   "outputs": [],
   "source": [
    "mask = np.ones((2527, 2463), dtype = bool)\n",
    "\n",
    "#vertices = np.array([1245,  1287,    2464,  1287,   2464,  1255,    1245,  1245])\n",
    "vertices = np.array([1245,  1280,    2464,  1283,    2464,  1255,    1245,  1250])\n",
    "bbPath = mplPath.Path(np.array([[vertices[0], vertices[1]],\n",
    "                                [vertices[2], vertices[3]],\n",
    "                                [vertices[4], vertices[5]],\n",
    "                                [vertices[6], vertices[7]],]))\n",
    "for x in range(mask.shape[1]):\n",
    "    for y in range(mask.shape[0]):\n",
    "        if bbPath.contains_point((x, y)):\n",
    "            mask[y, x] = False\n",
    "        \n",
    "ebounds = np.array([1203.,  1265.,    1230.,  1295])\n",
    "#ebounds = np.array([1207.,  1255.,    1240.,  1287.])\n",
    "xwidth, ywidth = ebounds[1] - ebounds[0], ebounds[3] - ebounds[2]\n",
    "center = np.array([int(xwidth/2.0 + ebounds[0]), int(ywidth/2.0 + ebounds[2])])\n",
    "e = Ellipse(xy=center, width=xwidth, height=ywidth)\n",
    "for xpoint in np.arange(ebounds[0]-5, ebounds[1]+5):\n",
    "    for ypoint in np.arange(ebounds[2]-5, ebounds[3]+5):\n",
    "        if e.contains_point((xpoint, ypoint)):\n",
    "            mask[int(ypoint), int(xpoint)] = False"
   ]
  },
  {
   "cell_type": "code",
   "execution_count": null,
   "metadata": {
    "collapsed": true
   },
   "outputs": [],
   "source": [
    "num = \"60\"\n",
    "img = np.load(\"/Users/apeck/Desktop/diffuse_scatter/lysozyme/diffuse/Lyso_250K_2/cbf_as_npy/Lyso_250K_2_1_000%s.npy\" %num)\n",
    "#img = np.load(\"/Users/apeck/Desktop/diffuse_scatter/ksi/diffuse/M116A_228K_1/cbf_as_npy/M116A_228K_1_2_00%s.npy\" %num)\n",
    "#img = np.load(\"/Users/apeck/Desktop/diffuse_scatter/ksi/diffuse/M105A_100K_2/cbf_as_npy/M105A_100K_2_1_00%s.npy\" %num)\n",
    "\n",
    "f, (ax1, ax2) = plt.subplots(1, 2, figsize=(12, 6))\n",
    "\n",
    "ax1.imshow(img, cmap='Blues', vmin=0, vmax=50, interpolation='None')\n",
    "\n",
    "m_img = img.copy()\n",
    "m_img[mask==False] = 0\n",
    "ax2.imshow(m_img, cmap='Blues', vmin=0, vmax=50, interpolation='None')\n",
    "\n",
    "for ax in [ax1, ax2]:\n",
    "    ax.set_ylim(1200, 1300)\n",
    "    #ax.set_ylim(1650, 1750)\n",
    "    ax.set_xlim(1200, 1300)\n",
    "    #ax.set_aspect(0.08)"
   ]
  },
  {
   "cell_type": "code",
   "execution_count": null,
   "metadata": {
    "collapsed": true
   },
   "outputs": [],
   "source": [
    "f, (ax1, ax2) = plt.subplots(2, 1, figsize=(12, 6))\n",
    "\n",
    "ax1.imshow(img, cmap='Blues', vmin=0, vmax=10, interpolation='None')\n",
    "\n",
    "m_img = img.copy()\n",
    "m_img[mask==False] = 0\n",
    "ax2.imshow(m_img, cmap='Blues', vmin=0, vmax=10, interpolation='None')\n",
    "\n",
    "for ax in [ax1, ax2]:\n",
    "    ax.set_ylim(1220, 1300)\n",
    "    #ax.set_ylim(1650, 1750)\n",
    "    ax.set_xlim(1800, 2200)\n",
    "    #ax.set_aspect(0.08)"
   ]
  },
  {
   "cell_type": "code",
   "execution_count": null,
   "metadata": {
    "collapsed": true
   },
   "outputs": [],
   "source": []
  }
 ],
 "metadata": {
  "kernelspec": {
   "display_name": "Python 3",
   "language": "python",
   "name": "python3"
  },
  "language_info": {
   "codemirror_mode": {
    "name": "ipython",
    "version": 3
   },
   "file_extension": ".py",
   "mimetype": "text/x-python",
   "name": "python",
   "nbconvert_exporter": "python",
   "pygments_lexer": "ipython3",
   "version": "3.6.4"
  }
 },
 "nbformat": 4,
 "nbformat_minor": 1
}
