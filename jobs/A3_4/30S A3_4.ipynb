{
 "cells": [
  {
   "cell_type": "markdown",
   "metadata": {},
   "source": [
    "# Prerequisite\n",
    "\n",
    "Installed [dials](https://dials.github.io/installation.html) on XStream:\n",
    "```\n",
    "cd ~/Toolkit\n",
    "tar -xf dials-v1-10-0-linux-x86_64.tar.xz\n",
    "cd dials-installer/\n",
    "./install --prefix=/path/dials-installer\n",
    "source dials_env.sh # put that in .bashrc\n",
    "libtbx.python -m pip install IPython\n",
    "```"
   ]
  },
  {
   "cell_type": "markdown",
   "metadata": {},
   "source": [
    "# Step 0 - XDS\n",
    "can be found in `$WORK/diffuse/A3+`, all `A3_4_*.cbf` files and under directory `A3_4_xds`."
   ]
  },
  {
   "cell_type": "markdown",
   "metadata": {},
   "source": [
    "# Step 1 - Generate system files\n",
    "\n",
    "## Prepare files\n",
    "### .cbf images to .npy arrays\n",
    "see  `WORK/diffuse/tools/cbf2npy.sh`\n",
    "We run `./tools/cbf2npy.sh ./A3+/ ./jobs/A3_4/cbf_as_npy/ A3_4`.\n",
    "### mask beam-stop\n",
    "added this to `INIT.LP`\n",
    "```\n",
    " TRUSTED_REGION=    0.00    1.05\n",
    " UNTRUSTED_ELLIPSE=  1145.  1310.    1175.  1345.   (X1,X2, Y1,Y2)\n",
    " UNTRUSTED_RECTANGLE=    487.   495.       0.  2528.   (X1,X2, Y1,Y2)\n",
    " UNTRUSTED_RECTANGLE=    981.   989.       0.  2528.   (X1,X2, Y1,Y2)\n",
    " UNTRUSTED_RECTANGLE=   1475.  1483.       0.  2528.   (X1,X2, Y1,Y2)\n",
    " UNTRUSTED_RECTANGLE=   1969.  1977.       0.  2528.   (X1,X2, Y1,Y2)\n",
    " UNTRUSTED_RECTANGLE=      0.  2464.     195.   213.   (X1,X2, Y1,Y2)\n",
    " UNTRUSTED_RECTANGLE=      0.  2464.     407.   425.   (X1,X2, Y1,Y2)\n",
    " UNTRUSTED_RECTANGLE=      0.  2464.     619.   637.   (X1,X2, Y1,Y2)\n",
    " UNTRUSTED_RECTANGLE=      0.  2464.     831.   849.   (X1,X2, Y1,Y2)\n",
    " UNTRUSTED_RECTANGLE=      0.  2464.    1043.  1061.   (X1,X2, Y1,Y2)\n",
    " UNTRUSTED_RECTANGLE=      0.  2464.    1255.  1273.   (X1,X2, Y1,Y2)\n",
    " UNTRUSTED_RECTANGLE=      0.  2464.    1467.  1485.   (X1,X2, Y1,Y2)\n",
    " UNTRUSTED_RECTANGLE=      0.  2464.    1679.  1697.   (X1,X2, Y1,Y2)\n",
    " UNTRUSTED_RECTANGLE=      0.  2464.    1891.  1909.   (X1,X2, Y1,Y2)\n",
    " UNTRUSTED_RECTANGLE=      0.  2464.    2103.  2121.   (X1,X2, Y1,Y2)\n",
    " UNTRUSTED_RECTANGLE=      0.  2464.    2315.  2333.   (X1,X2, Y1,Y2)\n",
    " UNTRUSTED_QUADRILATERAL=  1245  1320    2464  1340    2464  1230    1245  1210   (4 XY-pairs)\n",
    " ```\n",
    "\n",
    "## build reference dictionary `system.pickle`\n",
    "```cd ~/Toolkit/diffuse/pipeline\n",
    "dials.python generate_system.py WORK/diffuse/A3+/A3_4_xds/ WORK/diffuse/jobs/A3_4/exp/ npy```\n",
    "\n",
    "![](../)\n"
   ]
  },
  {
   "cell_type": "code",
   "execution_count": null,
   "metadata": {},
   "outputs": [],
   "source": []
  }
 ],
 "metadata": {
  "kernelspec": {
   "display_name": "Python 2",
   "language": "python",
   "name": "python2"
  },
  "language_info": {
   "codemirror_mode": {
    "name": "ipython",
    "version": 2
   },
   "file_extension": ".py",
   "mimetype": "text/x-python",
   "name": "python",
   "nbconvert_exporter": "python",
   "pygments_lexer": "ipython2",
   "version": "2.7.13"
  }
 },
 "nbformat": 4,
 "nbformat_minor": 2
}
