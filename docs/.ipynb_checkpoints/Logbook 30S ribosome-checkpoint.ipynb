{
 "cells": [
  {
   "cell_type": "markdown",
   "metadata": {},
   "source": [
    "# Data\n",
    "\n",
    "originally found at `poitevin .at. smbcopy.slac.stanford.edu:/data/demirci`\n",
    "\n",
    "## `dataprocess` \n",
    "(m6a July 2014) [info][1]\n",
    "\n",
    "## `05_27_15` \n",
    "(pseudoU sisomycin May 2015) [info][1]\n",
    "\n",
    "## `06_26_15 `\n",
    "(Ricci sisomycin June 2015) [info][1]\n",
    "\n",
    "Datasets are A5, B1, C1, D1:  Uploaded\n",
    "\n",
    "## `07_16_15`\n",
    "Uploading\n",
    "\n",
    "## `07_18_15`\n",
    "Uploading\n",
    "\n",
    "## `03_16_16`\n",
    "Uploading\n",
    "\n",
    "## `07_19_16_AG` \n",
    "(aminoglycosides July 2016)\n",
    "A3+\n",
    "\n",
    " 1 | 2 | 3 | 4\n",
    "--- | --- | --- | ---\n",
    "![A3_1_reduce.gif](./gifs/A3_1_reduce.gif) | ![A3_2_reduce.gif](./gifs/A3_2_reduce.gif) | ![A3_3_reduce.gif](./gifs/A3_3_reduce.gif) | ![A3_4_reduce.gif](./gifs/A3_4_reduce.gif)\n",
    "\n",
    "## `12_04_16_AG` \n",
    "(aminoglycosides December 2016) \n",
    "EMPTY ?\n",
    "\n",
    "## `12_19_16_AG_Gentamicin` \n",
    "(aminoglycosides December 2016)\n",
    "J7:1-5\n",
    "K4:1-5\n",
    "K5:1-2\n",
    "K5B:1-4\n",
    "\n",
    "\n",
    "\n",
    "\n",
    "[1]: https://docs.google.com/spreadsheets/d/1IrIsiR9P6u-ETemXnp82NSMGmmAN7EoqltV4IRQAv2A/edit#gid=1450704779\n"
   ]
  },
  {
   "cell_type": "markdown",
   "metadata": {},
   "source": [
    "\n",
    "Analysis:\n",
    "Try this multi-crystal analysis tool PaNDDA\n",
    "https://www.nature.com/articles/ncomms15123\n",
    "Now part of ccp4. 3 tools available: pandda.analyse  pandda.export   pandda.inspect\n",
    "Run with --help to get info on how to use\n",
    "\n",
    "Misc:\n",
    "https://en.wikipedia.org/wiki/Aminoglycoside"
   ]
  },
  {
   "cell_type": "code",
   "execution_count": null,
   "metadata": {},
   "outputs": [],
   "source": []
  }
 ],
 "metadata": {
  "kernelspec": {
   "display_name": "Python 3",
   "language": "python",
   "name": "python3"
  },
  "language_info": {
   "codemirror_mode": {
    "name": "ipython",
    "version": 3
   },
   "file_extension": ".py",
   "mimetype": "text/x-python",
   "name": "python",
   "nbconvert_exporter": "python",
   "pygments_lexer": "ipython3",
   "version": "3.6.4"
  }
 },
 "nbformat": 4,
 "nbformat_minor": 2
}
